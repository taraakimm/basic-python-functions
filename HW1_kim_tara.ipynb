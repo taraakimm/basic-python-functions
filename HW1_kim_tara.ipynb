{
  "nbformat": 4,
  "nbformat_minor": 0,
  "metadata": {
    "colab": {
      "name": "HW1_kim_tara.ipynb",
      "provenance": [],
      "collapsed_sections": []
    },
    "kernelspec": {
      "name": "python3",
      "display_name": "Python 3"
    }
  },
  "cells": [
    {
      "cell_type": "markdown",
      "metadata": {
        "id": "hm8RAKinXsIP"
      },
      "source": [
        "## **Homework 1**\n",
        "\n",
        "### Create a copy of the notebook to start answering the questions. Name your notebook in the format HW1_lastname_firstname.ipynb to facilitate the grading process. \n",
        "\n",
        "### Answer all the questions, test your code to ensure there are no errors and the results are as expected. Once you have answered all the questions, save the final copy, then go to File-> click on Download.ipynb. Once the local copy has been downloaded, submit your file on Blackboard under the corresponding assignment section. Also provide us a link to your notebook during submission. \n",
        "\n",
        "### **The due date of this homework is 02/05/2021 (Friday).**\n",
        "\n",
        "### Please ensure you follow all the steps mentioned in the homework.\n",
        "\n",
        "### All the questions have a sample input and output to help you understand the question. Please note that your programs will be tested for other sets of inputs and outputs along with the sample provided. So test your code for other inputs.\n",
        "\n",
        "### You can submit your solutions any number of times until the deadline.\n"
      ]
    },
    {
      "cell_type": "markdown",
      "metadata": {
        "id": "uacFrEaZfcfq"
      },
      "source": [
        "##### Q1. Write a program that prompts the user to enter a password then prints the length of the password.\n",
        "\n",
        "```\n",
        "Enter your password: hello\n",
        "Your password is 5 long.\n",
        "```\n",
        "\n",
        "\n"
      ]
    },
    {
      "cell_type": "code",
      "metadata": {
        "id": "avPyES14ftCt",
        "colab": {
          "base_uri": "https://localhost:8080/"
        },
        "outputId": "230962a4-28b3-45df-e02d-6b4dbb515a75"
      },
      "source": [
        "# Type solution here\n",
        "password = input(\"Enter your password: \")\n",
        "\n",
        "print(\"Your password is \" + str(len(password)) + \" long.\")"
      ],
      "execution_count": null,
      "outputs": [
        {
          "output_type": "stream",
          "text": [
            "Enter your password: tara kim\n",
            "Your password is 8 long.\n"
          ],
          "name": "stdout"
        }
      ]
    },
    {
      "cell_type": "markdown",
      "metadata": {
        "id": "behD0j_Of2TW"
      },
      "source": [
        "##### Q2. Write a program that prompts the user to enter their full name then prints the number of characters in their name (do not count spaces).\n",
        "\n",
        "```\n",
        "What is your name? Amulya Katti\n",
        "Amulya Katti your name has 11 characters.\n",
        "```"
      ]
    },
    {
      "cell_type": "code",
      "metadata": {
        "id": "XSdIRjwlhSlu",
        "colab": {
          "base_uri": "https://localhost:8080/"
        },
        "outputId": "d734c2d4-29f8-4523-989e-400421695355"
      },
      "source": [
        "# Type solution here\n",
        "name = input(\"What is your name? \")\n",
        "name = name.strip()\n",
        "\n",
        "print(name + \" your name has \" + str(len(name) - name.count(\" \")) + \" characters.\")"
      ],
      "execution_count": null,
      "outputs": [
        {
          "output_type": "stream",
          "text": [
            "What is your name? Amulya Katti\n",
            "Amulya Katti your name has 11 characters.\n"
          ],
          "name": "stdout"
        }
      ]
    },
    {
      "cell_type": "markdown",
      "metadata": {
        "id": "5KHOWF6FhVHV"
      },
      "source": [
        "##### Q3. Write a program that prompts the user to enter a month (as a number), then prints the name of the month and the number of days in that month. Ensure that the user inputs a valid month and handle any error cases.\n",
        "\n",
        "```\n",
        "Enter the month number: 9\n",
        "September has 30 days\n",
        "```"
      ]
    },
    {
      "cell_type": "code",
      "metadata": {
        "id": "KhS-SAEThyTG",
        "colab": {
          "base_uri": "https://localhost:8080/"
        },
        "outputId": "e551405b-71c2-4c34-dd45-05cb993c2567"
      },
      "source": [
        "# Type solution here\n",
        "nMonth = input(\"Enter the month number: \")\n",
        "\n",
        "\n",
        "if nMonth == \"1\":\n",
        "  print(\"January has 31 days\")\n",
        "elif nMonth == \"2\":\n",
        "  print(\"February has 28 days\")\n",
        "elif nMonth == \"3\":\n",
        "  print(\"March has 31 days\")\n",
        "elif nMonth == \"4\":\n",
        "  print(\"April has 30 days\")\n",
        "elif nMonth == \"5\":\n",
        "  print(\"May has 31 days\")\n",
        "elif nMonth == \"6\":\n",
        "  print(\"June has 30 days\")\n",
        "elif nMonth == \"7\":\n",
        "  print(\"July has 31 days\")\n",
        "elif nMonth == \"8\":\n",
        "  print(\"August has 31 days\")\n",
        "elif nMonth == \"9\":\n",
        "  print(\"September has 30 days\")\n",
        "elif nMonth == \"10\":\n",
        "  print(\"October has 31 days\")\n",
        "elif nMonth == \"11\":\n",
        "  print(\"November has 30 days\")\n",
        "elif nMonth == \"12\":\n",
        "  print(\"December has 31 days\")\n",
        "else:\n",
        "  print(\"Please enter a valid month number 1-12 (ex. 9 for September).\")\n"
      ],
      "execution_count": 49,
      "outputs": [
        {
          "output_type": "stream",
          "text": [
            "Enter the month number: 9\n",
            "September has 30 days\n"
          ],
          "name": "stdout"
        }
      ]
    },
    {
      "cell_type": "markdown",
      "metadata": {
        "id": "O7lnAdGlh6Xa"
      },
      "source": [
        "##### Q4. Write a program that prompts the user to enter a loan amount, annual interest rate, and number of years  for a car loan. Then calculate and print the monthly payment amount.\n",
        "\n",
        "Note:\n",
        "```\n",
        "PMT= [PV*i*((1+i)^n)]/[((1+i)^n)-1]\n",
        "```\n",
        "PMT is the monthly payment\n",
        "\n",
        "PV is the loan amount\n",
        "\n",
        "i is the interest rate per month in decimal form (interest rate percentage divided by 12)\n",
        "\n",
        "n is the number of months (term of the loan in months)\n",
        "\n",
        "```\n",
        "Loan Amount: 30000.00\n",
        "Annual Interest Rate: 4.00\n",
        "Years: 5\n",
        "Your monthly payment is: $552.50\n",
        "```"
      ]
    },
    {
      "cell_type": "code",
      "metadata": {
        "id": "p4B5JH5GiTs9",
        "colab": {
          "base_uri": "https://localhost:8080/"
        },
        "outputId": "5aba35ab-586a-4021-967a-afdcd364f082"
      },
      "source": [
        "# Type solution here\n",
        "loan = float(input(\"Loan Amount: \"))\n",
        "aRate = float(input(\"Annual Interest Rate: \"))\n",
        "years = int(input(\"Years: \"))\n",
        "\n",
        "mRate = aRate / 100 / 12\n",
        "months = years * 12\n",
        "\n",
        "pmt = (loan * mRate * ((1 + mRate) ** months)) / (((1 + mRate) ** months) - 1)\n",
        "print(\"Your monthly payment is: $\" + str(round(pmt, 2)))"
      ],
      "execution_count": 53,
      "outputs": [
        {
          "output_type": "stream",
          "text": [
            "Loan Amount: 30000\n",
            "Annual Interest Rate: 4\n",
            "Years: 5\n",
            "Your monthly payment is: $552.5\n"
          ],
          "name": "stdout"
        }
      ]
    },
    {
      "cell_type": "markdown",
      "metadata": {
        "id": "SjiolJKgiWV-"
      },
      "source": [
        "##### Q5. Write a program to that prompts the user to enter a string. Then check whether or not the string is a palindrome.\n",
        "\n",
        "```\n",
        "Enter a string: Madam\n",
        "Madam, is a palindrome!\n",
        "```"
      ]
    },
    {
      "cell_type": "code",
      "metadata": {
        "id": "F5_M934Ri0es",
        "colab": {
          "base_uri": "https://localhost:8080/"
        },
        "outputId": "ee14398a-70d2-47df-a419-7f9ebe5f015b"
      },
      "source": [
        "# Type solution here\n",
        "string = input(\"Enter a string: \")\n",
        "string0 = string.lower().strip()\n",
        "\n",
        "if string0 == string0[::-1]:\n",
        "  print(string + \" is a palindrome!\")\n",
        "else:\n",
        "  print(string + \" is not a palindrome.\")"
      ],
      "execution_count": 3,
      "outputs": [
        {
          "output_type": "stream",
          "text": [
            "Enter a string: malayalam\n",
            "malayalam is a palindrome!\n"
          ],
          "name": "stdout"
        }
      ]
    },
    {
      "cell_type": "markdown",
      "metadata": {
        "id": "BLBD6n9vkJEu"
      },
      "source": [
        "##### Q6. Write a program to compute and print all possible combinations of change for \\$1. Denominations to be considered – quarter, dime, nickel, penny.\n",
        "\n",
        "Hint: Use nested loops (loops within loops for the various denominations of coins)\n",
        "\n",
        "```\n",
        "Change for $1:\n",
        "0 quarters, 0 dimes, 0 nickels, 100 pennies\n",
        "…\n",
        "4 quarters, 0 dimes, 0 nickels, 0 pennies\n",
        "```"
      ]
    },
    {
      "cell_type": "code",
      "metadata": {
        "id": "kAQsTjwDkZZ5",
        "colab": {
          "base_uri": "https://localhost:8080/"
        },
        "outputId": "0ce5eed3-866d-4a01-bcdf-2935c42f7d2d"
      },
      "source": [
        "# Type solution here\n",
        "print(\"change for $1:\")\n",
        "\n",
        "for quarter in range(5):\n",
        "  for dime in range (11):\n",
        "    for nickel in range (21):\n",
        "      for penny in range (101):\n",
        "        if (quarter * 25) + (dime * 10) + (nickel * 20) + penny == 100:\n",
        "          print(str(quarter) + \" quarters, \" + str(dime) + \" dimes, \" + str(nickel) + \" nickels, \" + str(penny) + \" pennies\") "
      ],
      "execution_count": null,
      "outputs": [
        {
          "output_type": "stream",
          "text": [
            "change for $1:\n",
            "0 quarters, 0 dimes, 0 nickels, 100 pennies\n",
            "0 quarters, 0 dimes, 1 nickels, 80 pennies\n",
            "0 quarters, 0 dimes, 2 nickels, 60 pennies\n",
            "0 quarters, 0 dimes, 3 nickels, 40 pennies\n",
            "0 quarters, 0 dimes, 4 nickels, 20 pennies\n",
            "0 quarters, 0 dimes, 5 nickels, 0 pennies\n",
            "0 quarters, 1 dimes, 0 nickels, 90 pennies\n",
            "0 quarters, 1 dimes, 1 nickels, 70 pennies\n",
            "0 quarters, 1 dimes, 2 nickels, 50 pennies\n",
            "0 quarters, 1 dimes, 3 nickels, 30 pennies\n",
            "0 quarters, 1 dimes, 4 nickels, 10 pennies\n",
            "0 quarters, 2 dimes, 0 nickels, 80 pennies\n",
            "0 quarters, 2 dimes, 1 nickels, 60 pennies\n",
            "0 quarters, 2 dimes, 2 nickels, 40 pennies\n",
            "0 quarters, 2 dimes, 3 nickels, 20 pennies\n",
            "0 quarters, 2 dimes, 4 nickels, 0 pennies\n",
            "0 quarters, 3 dimes, 0 nickels, 70 pennies\n",
            "0 quarters, 3 dimes, 1 nickels, 50 pennies\n",
            "0 quarters, 3 dimes, 2 nickels, 30 pennies\n",
            "0 quarters, 3 dimes, 3 nickels, 10 pennies\n",
            "0 quarters, 4 dimes, 0 nickels, 60 pennies\n",
            "0 quarters, 4 dimes, 1 nickels, 40 pennies\n",
            "0 quarters, 4 dimes, 2 nickels, 20 pennies\n",
            "0 quarters, 4 dimes, 3 nickels, 0 pennies\n",
            "0 quarters, 5 dimes, 0 nickels, 50 pennies\n",
            "0 quarters, 5 dimes, 1 nickels, 30 pennies\n",
            "0 quarters, 5 dimes, 2 nickels, 10 pennies\n",
            "0 quarters, 6 dimes, 0 nickels, 40 pennies\n",
            "0 quarters, 6 dimes, 1 nickels, 20 pennies\n",
            "0 quarters, 6 dimes, 2 nickels, 0 pennies\n",
            "0 quarters, 7 dimes, 0 nickels, 30 pennies\n",
            "0 quarters, 7 dimes, 1 nickels, 10 pennies\n",
            "0 quarters, 8 dimes, 0 nickels, 20 pennies\n",
            "0 quarters, 8 dimes, 1 nickels, 0 pennies\n",
            "0 quarters, 9 dimes, 0 nickels, 10 pennies\n",
            "0 quarters, 10 dimes, 0 nickels, 0 pennies\n",
            "1 quarters, 0 dimes, 0 nickels, 75 pennies\n",
            "1 quarters, 0 dimes, 1 nickels, 55 pennies\n",
            "1 quarters, 0 dimes, 2 nickels, 35 pennies\n",
            "1 quarters, 0 dimes, 3 nickels, 15 pennies\n",
            "1 quarters, 1 dimes, 0 nickels, 65 pennies\n",
            "1 quarters, 1 dimes, 1 nickels, 45 pennies\n",
            "1 quarters, 1 dimes, 2 nickels, 25 pennies\n",
            "1 quarters, 1 dimes, 3 nickels, 5 pennies\n",
            "1 quarters, 2 dimes, 0 nickels, 55 pennies\n",
            "1 quarters, 2 dimes, 1 nickels, 35 pennies\n",
            "1 quarters, 2 dimes, 2 nickels, 15 pennies\n",
            "1 quarters, 3 dimes, 0 nickels, 45 pennies\n",
            "1 quarters, 3 dimes, 1 nickels, 25 pennies\n",
            "1 quarters, 3 dimes, 2 nickels, 5 pennies\n",
            "1 quarters, 4 dimes, 0 nickels, 35 pennies\n",
            "1 quarters, 4 dimes, 1 nickels, 15 pennies\n",
            "1 quarters, 5 dimes, 0 nickels, 25 pennies\n",
            "1 quarters, 5 dimes, 1 nickels, 5 pennies\n",
            "1 quarters, 6 dimes, 0 nickels, 15 pennies\n",
            "1 quarters, 7 dimes, 0 nickels, 5 pennies\n",
            "2 quarters, 0 dimes, 0 nickels, 50 pennies\n",
            "2 quarters, 0 dimes, 1 nickels, 30 pennies\n",
            "2 quarters, 0 dimes, 2 nickels, 10 pennies\n",
            "2 quarters, 1 dimes, 0 nickels, 40 pennies\n",
            "2 quarters, 1 dimes, 1 nickels, 20 pennies\n",
            "2 quarters, 1 dimes, 2 nickels, 0 pennies\n",
            "2 quarters, 2 dimes, 0 nickels, 30 pennies\n",
            "2 quarters, 2 dimes, 1 nickels, 10 pennies\n",
            "2 quarters, 3 dimes, 0 nickels, 20 pennies\n",
            "2 quarters, 3 dimes, 1 nickels, 0 pennies\n",
            "2 quarters, 4 dimes, 0 nickels, 10 pennies\n",
            "2 quarters, 5 dimes, 0 nickels, 0 pennies\n",
            "3 quarters, 0 dimes, 0 nickels, 25 pennies\n",
            "3 quarters, 0 dimes, 1 nickels, 5 pennies\n",
            "3 quarters, 1 dimes, 0 nickels, 15 pennies\n",
            "3 quarters, 2 dimes, 0 nickels, 5 pennies\n",
            "4 quarters, 0 dimes, 0 nickels, 0 pennies\n"
          ],
          "name": "stdout"
        }
      ]
    },
    {
      "cell_type": "markdown",
      "metadata": {
        "id": "rUPDjYiIkbgs"
      },
      "source": [
        "##### Q7. Ask the user to enter two positive integers between 1 and 100. Read those integers. Then output a multiplication table of the first number times the second number. \n",
        "\n",
        "Note: You have to ensure the entered numbers are between 1 and 100 only.\n",
        "\n",
        "```\n",
        "Please enter an integer: 5\n",
        "Please enter another integer: 20\n",
        "5 x 1 = 5\n",
        "5 x 2 = 10\n",
        "5 x 3 = 15\n",
        "…\n",
        "5 x 20 = 100\n",
        "```"
      ]
    },
    {
      "cell_type": "code",
      "metadata": {
        "id": "Qg0Orv1klHzA",
        "colab": {
          "base_uri": "https://localhost:8080/"
        },
        "outputId": "4bdeeab1-5121-4f3d-b464-d323763d501b"
      },
      "source": [
        "# Type solution here\n",
        "int1 = int(input(\"Please enter an integer: \"))\n",
        "int2 = int(input(\"Please enter another integer: \"))\n",
        "\n",
        "if 1 <= int1 <= 100 and 1 <= int2 <= 100:\n",
        "  if int1 < int2:\n",
        "    for num in range(int2 + 1):\n",
        "      print(str(int1) + \" x \" + str(num) + \" = \" + str(int1*num))\n",
        "  elif int2 < int1:\n",
        "    for num in range(int1 + 1):\n",
        "      print(str(int2) + \" x \" + str(num) + \" = \" + str(int2*num))\n",
        "else:\n",
        "  print(\"Please enter integers between 1 and 100.\")\n"
      ],
      "execution_count": null,
      "outputs": [
        {
          "output_type": "stream",
          "text": [
            "Please enter an integer: 101\n",
            "Please enter another integer: 109\n",
            "Please enter an integer between 1 and 100.\n"
          ],
          "name": "stdout"
        }
      ]
    },
    {
      "cell_type": "markdown",
      "metadata": {
        "id": "SbnbPUPTlLD9"
      },
      "source": [
        "##### Q8. Write a program to ask the user to enter a password. Then check to see if it is a valid password based on these requirements -\n",
        "\n",
        "Must be at least 8 characters long\n",
        "\n",
        "Must contain both uppercase and lowercase letters\n",
        "\n",
        "Must contain at least one number between 0-9\n",
        "\n",
        "Must contain a special character -!,@,#,$\n",
        "\n",
        "If the password is not valid, ask the user to re-enter. This should continue until the user enters a valid password. After a valid password is entered, print Access Granted!\n",
        "\n",
        "```\n",
        "Please enter a password. Follow these requirements - \n",
        "a. Must be at least 8 characters long\n",
        "b. Must contain both uppercase and lowercase letters\n",
        "c. Must contain at least one number between 0-9\n",
        "d. Must contain a special character -!,@,#,$\n",
        "Password: HelloWorld1\n",
        "Invalid password. Try again!\n",
        "Password: Hello@World1\n",
        "Access Granted!\n",
        "```\n"
      ]
    },
    {
      "cell_type": "code",
      "metadata": {
        "id": "OXmZ177Rl-RV",
        "colab": {
          "base_uri": "https://localhost:8080/"
        },
        "outputId": "5a1200ca-19a3-4f9d-aa8b-8c97db02f0a6"
      },
      "source": [
        "# Type solution here\n",
        "print(\"Please enter a password. Follow these requirements - \")\n",
        "print(\"a. Must be at least 8 characters long\")\n",
        "print(\"b. Must contain both uppercase and lowercase letters\")\n",
        "print(\"c. Must contain at least one number between 0-9\")\n",
        "print(\"d. Must contain a character - !,@,#,$\")\n",
        "\n",
        "specialC = \"!@#$%^&*()-+?_=,<>/\"\n",
        "\n",
        "while True:\n",
        "  pw = input(\"Password: \")\n",
        "\n",
        "  if len(pw) < 8:\n",
        "    print(\"Invalid password. Must be at least 8 characters long.\")\n",
        "  elif not any(x.isupper() for x in pw):\n",
        "      print(\"Invalid password. Must contain uppercase letters.\")\n",
        "  elif not any(x.islower() for x in pw):\n",
        "    print(\"Invalid password. Must contain lowercase letters.\")\n",
        "  elif not any(x.isdigit() for x in pw):\n",
        "    print(\"Invalid password. Must contain at least one number.\")\n",
        "  elif not any(x in specialC for x in pw):\n",
        "    print(\"Invalid password. Must contain a character.\")\n",
        "  else:\n",
        "    print(\"Access granted!\")\n",
        "    break\n",
        "  "
      ],
      "execution_count": 17,
      "outputs": [
        {
          "output_type": "stream",
          "text": [
            "Please enter a password. Follow these requirements - \n",
            "a. Must be at least 8 characters long\n",
            "b. Must contain both uppercase and lowercase letters\n",
            "c. Must contain at least one number between 0-9\n",
            "d. Must contain a character - !,@,#,$\n",
            "Password: HelloWorld\n",
            "Invalid password. Must contain at least one number.\n",
            "Password: Hello@World1\n",
            "Access granted!\n"
          ],
          "name": "stdout"
        }
      ]
    },
    {
      "cell_type": "markdown",
      "metadata": {
        "id": "-0sdutTDnTKA"
      },
      "source": [
        "##### Q9. Given the score sheet of participants in a competition, you are required to find the runner-up score. You are given scores in a list. Find the score of the runner-up.\n",
        "\n",
        "```\n",
        "list1 - [2, 3, 6, 6, 5]\n",
        "runner_up - 5\n",
        "\n",
        "list2 - [1, 7, 5, 3, 10, 4, 5, 5, 6, 11]\n",
        "runner_up - 10\n",
        "```"
      ]
    },
    {
      "cell_type": "code",
      "metadata": {
        "id": "12YP9OaqpGRK",
        "colab": {
          "base_uri": "https://localhost:8080/"
        },
        "outputId": "8758ca0e-5678-4119-bdc3-1c04b6b80a13"
      },
      "source": [
        "# Type solution here\n",
        "list1 = [2, 3, 6, 6, 5]\n",
        "list2 = [1, 7, 5, 3, 10, 4, 5, 5, 6, 11]\n",
        "unique1 = []\n",
        "unique2 = []\n",
        "\n",
        "\n",
        "print(\"list1 - \" + str(list1))\n",
        "for score in list1:\n",
        "  if score not in unique1:\n",
        "    unique1.append(score)\n",
        "unique1.sort(reverse = True)\n",
        "print(\"runner-up - \" + str(unique1[1]))\n",
        "\n",
        "print(\"\\nlist2 - \" + str(list2))\n",
        "for score in list2:\n",
        "  if score not in unique2:\n",
        "    unique2.append(score)\n",
        "unique2.sort(reverse = True)\n",
        "print(\"runner-up - \" + str(unique2[1]))\n"
      ],
      "execution_count": 48,
      "outputs": [
        {
          "output_type": "stream",
          "text": [
            "list1 - [2, 3, 6, 6, 5]\n",
            "runner-up - 5\n",
            "\n",
            "list2 - [1, 7, 5, 3, 10, 4, 5, 5, 6, 11]\n",
            "runner-up - 10\n"
          ],
          "name": "stdout"
        }
      ]
    }
  ]
}